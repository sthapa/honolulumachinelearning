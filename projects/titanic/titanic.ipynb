{
 "cells": [
  {
   "cell_type": "markdown",
   "metadata": {},
   "source": [
    "# Introduction\n",
    "\n",
    "This is a project notebook that'll run a basic analysis for machine learning / classification techniques using some python libraries.  Although there are a variety of python libraries for this, this notebook will focus on a few widely popular libraries (scikit-learn, pandas, numpy, matplotlib, pytorch).  Feel free to take this notebook and adapt this for your purposes.\n",
    "\n",
    "# Machine Learning Basics in a Nutshell\n",
    "\n",
    "There are main tasks in machine learning break down into :\n",
    "\n",
    "* Classification - Separating incoming data into two or more categories (e.g. is this image a hot dog or not)\n",
    "* Regression - Given a set of inputs, predict a new value (e.g. how much will a house sell for if it has 2 bedrooms)\n",
    "\n",
    "Generally, classification involves sorting inputs into different categories and regression tasks involve predicting a value.  \n",
    "\n",
    "For this project we will use a [kaggle](https://www.kaggle.com/competitions) [competition](https://www.kaggle.com/c/titanic) to predict the which passengers on the Titanic survived.  We are given several CSV (comma separated value) files with information about passengers and whether they survived or not.  Our task is to use this information to generate a model that will predict whether a given passenger survived or not. We also have a validation set that we can use to test our model.  Finally, we can submit a csv file to kaggle to see how our model compares with others.  See [this page](https://www.kaggle.com/alexisbcook/titanic-tutorial) for detailed instructions on doing this and a tutorial guiding you through this process.\n",
    "\n"
   ]
  },
  {
   "cell_type": "markdown",
   "metadata": {},
   "source": [
    "The first step is to import the python modules needed to create and test our models.  We'll import a few other modules in order to visualize our data as well.  We'll be looking at using two different models, a logistic regression classifier and a neural network classifier.  These are the two basic techniques used in machine learning.  To get a model that works well, you'll probably need to move past this and use other techniques such as bayesian classification or decision trees. \n",
    "\n",
    "*So without further ado, let's import all the things:*"
   ]
  },
  {
   "cell_type": "code",
   "execution_count": 3,
   "metadata": {},
   "outputs": [],
   "source": [
    "import pandas as pd\n",
    "import numpy as np\n",
    "\n",
    "%matplotlib inline\n",
    "import matplotlib\n",
    "import matplotlib.pyplot as plt"
   ]
  },
  {
   "cell_type": "code",
   "execution_count": 4,
   "metadata": {},
   "outputs": [],
   "source": [
    "import pathlib"
   ]
  },
  {
   "cell_type": "code",
   "execution_count": null,
   "metadata": {},
   "outputs": [],
   "source": []
  }
 ],
 "metadata": {
  "kernelspec": {
   "display_name": "Python 3",
   "language": "python",
   "name": "python3"
  },
  "language_info": {
   "codemirror_mode": {
    "name": "ipython",
    "version": 3
   },
   "file_extension": ".py",
   "mimetype": "text/x-python",
   "name": "python",
   "nbconvert_exporter": "python",
   "pygments_lexer": "ipython3",
   "version": "3.6.8"
  }
 },
 "nbformat": 4,
 "nbformat_minor": 2
}
